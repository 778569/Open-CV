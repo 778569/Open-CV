{
  "nbformat": 4,
  "nbformat_minor": 0,
  "metadata": {
    "colab": {
      "provenance": []
    },
    "kernelspec": {
      "name": "python3",
      "display_name": "Python 3"
    },
    "language_info": {
      "name": "python"
    }
  },
  "cells": [
    {
      "cell_type": "code",
      "execution_count": 2,
      "metadata": {
        "id": "oOiir-aqPxi7"
      },
      "outputs": [],
      "source": [
        "import numpy as np\n",
        "import cv2\n",
        "\n",
        "image = cv2.imread(\"opencv-logo.png\",1)"
      ]
    },
    {
      "cell_type": "code",
      "source": [
        "from google.colab.patches import cv2_imshow\n",
        "\n",
        "cv2_imshow(image)\n"
      ],
      "metadata": {
        "colab": {
          "base_uri": "https://localhost:8080/",
          "height": 756
        },
        "id": "Q9xWUjaGRzlm",
        "outputId": "92046a23-5a29-4c37-8116-88d542c3bf2e"
      },
      "execution_count": 3,
      "outputs": [
        {
          "output_type": "display_data",
          "data": {
            "text/plain": [
              "<PIL.Image.Image image mode=RGB size=600x739>"
            ],
            "image/png": "[encoded data removed]"
          },
          "metadata": {}
        }
      ]
    },
    {
      "cell_type": "code",
      "source": [
        "image"
      ],
      "metadata": {
        "colab": {
          "base_uri": "https://localhost:8080/",
          "height": 886
        },
        "id": "ODHbtUdHOMu0",
        "outputId": "e9c33d5d-3feb-4f3b-fb13-5b74b13681ca"
      },
      "execution_count": 4,
      "outputs": [
        {
          "output_type": "execute_result",
          "data": {
            "text/plain": [
              "array([[[255, 255, 255],\n",
              "        [255, 255, 255],\n",
              "        [255, 255, 255],\n",
              "        ...,\n",
              "        [255, 255, 255],\n",
              "        [255, 255, 255],\n",
              "        [255, 255, 255]],\n",
              "\n",
              "       [[255, 255, 255],\n",
              "        [255, 255, 255],\n",
              "        [255, 255, 255],\n",
              "        ...,\n",
              "        [255, 255, 255],\n",
              "        [255, 255, 255],\n",
              "        [255, 255, 255]],\n",
              "\n",
              "       [[255, 255, 255],\n",
              "        [255, 255, 255],\n",
              "        [255, 255, 255],\n",
              "        ...,\n",
              "        [255, 255, 255],\n",
              "        [255, 255, 255],\n",
              "        [255, 255, 255]],\n",
              "\n",
              "       ...,\n",
              "\n",
              "       [[255, 255, 255],\n",
              "        [255, 255, 255],\n",
              "        [255, 255, 255],\n",
              "        ...,\n",
              "        [255, 255, 255],\n",
              "        [255, 255, 255],\n",
              "        [255, 255, 255]],\n",
              "\n",
              "       [[255, 255, 255],\n",
              "        [255, 255, 255],\n",
              "        [255, 255, 255],\n",
              "        ...,\n",
              "        [255, 255, 255],\n",
              "        [255, 255, 255],\n",
              "        [255, 255, 255]],\n",
              "\n",
              "       [[255, 255, 255],\n",
              "        [255, 255, 255],\n",
              "        [255, 255, 255],\n",
              "        ...,\n",
              "        [255, 255, 255],\n",
              "        [255, 255, 255],\n",
              "        [255, 255, 255]]], dtype=uint8)"
            ],
            "text/html": [
              "<style>\n",
              "      .ndarray_repr .ndarray_raw_data {\n",
              "        display: none;\n",
              "      }\n",
              "      .ndarray_repr.show_array .ndarray_raw_data {\n",
              "        display: block;\n",
              "      }\n",
              "      .ndarray_repr.show_array .ndarray_image_preview {\n",
              "        display: none;\n",
              "      }\n",
              "      </style>\n",
              "      <div id=\"id-9d831e69-8ed2-4ed0-a6b2-e76c082a71c0\" class=\"ndarray_repr\"><pre>ndarray (739, 600, 3) <button style=\"padding: 0 2px;\">show data</button></pre><img src=\"data:image/png;base64,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\" class=\"ndarray_image_preview\" /><pre class=\"ndarray_raw_data\">array([[[255, 255, 255],\n",
              "        [255, 255, 255],\n",
              "        [255, 255, 255],\n",
              "        ...,\n",
              "        [255, 255, 255],\n",
              "        [255, 255, 255],\n",
              "        [255, 255, 255]],\n",
              "\n",
              "       [[255, 255, 255],\n",
              "        [255, 255, 255],\n",
              "        [255, 255, 255],\n",
              "        ...,\n",
              "        [255, 255, 255],\n",
              "        [255, 255, 255],\n",
              "        [255, 255, 255]],\n",
              "\n",
              "       [[255, 255, 255],\n",
              "        [255, 255, 255],\n",
              "        [255, 255, 255],\n",
              "        ...,\n",
              "        [255, 255, 255],\n",
              "        [255, 255, 255],\n",
              "        [255, 255, 255]],\n",
              "\n",
              "       ...,\n",
              "\n",
              "       [[255, 255, 255],\n",
              "        [255, 255, 255],\n",
              "        [255, 255, 255],\n",
              "        ...,\n",
              "        [255, 255, 255],\n",
              "        [255, 255, 255],\n",
              "        [255, 255, 255]],\n",
              "\n",
              "       [[255, 255, 255],\n",
              "        [255, 255, 255],\n",
              "        [255, 255, 255],\n",
              "        ...,\n",
              "        [255, 255, 255],\n",
              "        [255, 255, 255],\n",
              "        [255, 255, 255]],\n",
              "\n",
              "       [[255, 255, 255],\n",
              "        [255, 255, 255],\n",
              "        [255, 255, 255],\n",
              "        ...,\n",
              "        [255, 255, 255],\n",
              "        [255, 255, 255],\n",
              "        [255, 255, 255]]], dtype=uint8)</pre></div><script>\n",
              "      (() => {\n",
              "      const titles = ['show data', 'hide data'];\n",
              "      let index = 0\n",
              "      document.querySelector('#id-9d831e69-8ed2-4ed0-a6b2-e76c082a71c0 button').onclick = (e) => {\n",
              "        document.querySelector('#id-9d831e69-8ed2-4ed0-a6b2-e76c082a71c0').classList.toggle('show_array');\n",
              "        index = (++index) % 2;\n",
              "        document.querySelector('#id-9d831e69-8ed2-4ed0-a6b2-e76c082a71c0 button').textContent = titles[index];\n",
              "        e.preventDefault();\n",
              "        e.stopPropagation();\n",
              "      }\n",
              "      })();\n",
              "    </script>"
            ]
          },
          "metadata": {},
          "execution_count": 4
        }
      ]
    },
    {
      "cell_type": "code",
      "source": [
        "type(image)"
      ],
      "metadata": {
        "colab": {
          "base_uri": "https://localhost:8080/"
        },
        "id": "Mp_1Fn_gOyHu",
        "outputId": "f7c79766-a0d1-4cef-ce95-1fca019caabe"
      },
      "execution_count": 8,
      "outputs": [
        {
          "output_type": "execute_result",
          "data": {
            "text/plain": [
              "numpy.ndarray"
            ]
          },
          "metadata": {},
          "execution_count": 8
        }
      ]
    },
    {
      "cell_type": "code",
      "source": [
        "len(image)"
      ],
      "metadata": {
        "colab": {
          "base_uri": "https://localhost:8080/"
        },
        "id": "Ne_hor9XPKI2",
        "outputId": "c37f4fb3-2243-4fac-9c3c-919d6bb7387d"
      },
      "execution_count": 9,
      "outputs": [
        {
          "output_type": "execute_result",
          "data": {
            "text/plain": [
              "739"
            ]
          },
          "metadata": {},
          "execution_count": 9
        }
      ]
    },
    {
      "cell_type": "code",
      "source": [
        "image[0]"
      ],
      "metadata": {
        "colab": {
          "base_uri": "https://localhost:8080/"
        },
        "id": "DVMah-GSYJ-_",
        "outputId": "d624a8c6-1d05-465e-efeb-4143782ecc37"
      },
      "execution_count": 10,
      "outputs": [
        {
          "output_type": "execute_result",
          "data": {
            "text/plain": [
              "array([[255, 255, 255],\n",
              "       [255, 255, 255],\n",
              "       [255, 255, 255],\n",
              "       ...,\n",
              "       [255, 255, 255],\n",
              "       [255, 255, 255],\n",
              "       [255, 255, 255]], dtype=uint8)"
            ]
          },
          "metadata": {},
          "execution_count": 10
        }
      ]
    },
    {
      "cell_type": "code",
      "source": [
        "image[0][0]"
      ],
      "metadata": {
        "colab": {
          "base_uri": "https://localhost:8080/"
        },
        "id": "gEJrjOq6YVQQ",
        "outputId": "e4f1a7ba-8698-4f8a-c3d0-5a96c7fc0e7c"
      },
      "execution_count": 11,
      "outputs": [
        {
          "output_type": "execute_result",
          "data": {
            "text/plain": [
              "array([255, 255, 255], dtype=uint8)"
            ]
          },
          "metadata": {},
          "execution_count": 11
        }
      ]
    },
    {
      "cell_type": "code",
      "source": [
        "len(image[0][0])"
      ],
      "metadata": {
        "colab": {
          "base_uri": "https://localhost:8080/"
        },
        "id": "QCbI2jrQbhjK",
        "outputId": "05ca7588-84ef-40b8-93f0-c2c3df7021ea"
      },
      "execution_count": 12,
      "outputs": [
        {
          "output_type": "execute_result",
          "data": {
            "text/plain": [
              "3"
            ]
          },
          "metadata": {},
          "execution_count": 12
        }
      ]
    },
    {
      "cell_type": "code",
      "source": [
        "image.shape"
      ],
      "metadata": {
        "colab": {
          "base_uri": "https://localhost:8080/"
        },
        "id": "Y6xNO6g4btL6",
        "outputId": "fe6f5228-7629-4aae-f10c-c426ac5830e7"
      },
      "execution_count": 13,
      "outputs": [
        {
          "output_type": "execute_result",
          "data": {
            "text/plain": [
              "(739, 600, 3)"
            ]
          },
          "metadata": {},
          "execution_count": 13
        }
      ]
    },
    {
      "cell_type": "code",
      "source": [
        "image.dtype"
      ],
      "metadata": {
        "colab": {
          "base_uri": "https://localhost:8080/"
        },
        "id": "wpij-M96by74",
        "outputId": "c9499604-239c-4d39-9cb8-1701041c9f8c"
      },
      "execution_count": 15,
      "outputs": [
        {
          "output_type": "execute_result",
          "data": {
            "text/plain": [
              "dtype('uint8')"
            ]
          },
          "metadata": {},
          "execution_count": 15
        }
      ]
    },
    {
      "cell_type": "code",
      "source": [
        "image[0][0][0]"
      ],
      "metadata": {
        "colab": {
          "base_uri": "https://localhost:8080/"
        },
        "id": "wbLFLc9Jct9U",
        "outputId": "2dad2034-9815-49a8-8ed3-5abbabf5791d"
      },
      "execution_count": 16,
      "outputs": [
        {
          "output_type": "execute_result",
          "data": {
            "text/plain": [
              "255"
            ]
          },
          "metadata": {},
          "execution_count": 16
        }
      ]
    },
    {
      "cell_type": "code",
      "source": [
        "image.shape"
      ],
      "metadata": {
        "colab": {
          "base_uri": "https://localhost:8080/"
        },
        "id": "Y4d9QfF0dBPD",
        "outputId": "6b2fffa0-ecd3-4d4e-beda-c48300d40230"
      },
      "execution_count": 17,
      "outputs": [
        {
          "output_type": "execute_result",
          "data": {
            "text/plain": [
              "(739, 600, 3)"
            ]
          },
          "metadata": {},
          "execution_count": 17
        }
      ]
    },
    {
      "cell_type": "code",
      "source": [
        "image[10,5]"
      ],
      "metadata": {
        "colab": {
          "base_uri": "https://localhost:8080/"
        },
        "id": "cViZKElddRO2",
        "outputId": "ae012d36-dec3-41f9-fbcd-9cd8c7bc90b6"
      },
      "execution_count": 18,
      "outputs": [
        {
          "output_type": "execute_result",
          "data": {
            "text/plain": [
              "array([255, 255, 255], dtype=uint8)"
            ]
          },
          "metadata": {},
          "execution_count": 18
        }
      ]
    },
    {
      "cell_type": "code",
      "source": [
        "image[:,:,0]"
      ],
      "metadata": {
        "colab": {
          "base_uri": "https://localhost:8080/",
          "height": 780
        },
        "id": "hqNWjSb9dwVK",
        "outputId": "79fca5cb-7e90-4ff8-cb42-f873940b89b4"
      },
      "execution_count": 25,
      "outputs": [
        {
          "output_type": "execute_result",
          "data": {
            "text/plain": [
              "array([[255, 255, 255, ..., 255, 255, 255],\n",
              "       [255, 255, 255, ..., 255, 255, 255],\n",
              "       [255, 255, 255, ..., 255, 255, 255],\n",
              "       ...,\n",
              "       [255, 255, 255, ..., 255, 255, 255],\n",
              "       [255, 255, 255, ..., 255, 255, 255],\n",
              "       [255, 255, 255, ..., 255, 255, 255]], dtype=uint8)"
            ],
            "text/html": [
              "<style>\n",
              "      .ndarray_repr .ndarray_raw_data {\n",
              "        display: none;\n",
              "      }\n",
              "      .ndarray_repr.show_array .ndarray_raw_data {\n",
              "        display: block;\n",
              "      }\n",
              "      .ndarray_repr.show_array .ndarray_image_preview {\n",
              "        display: none;\n",
              "      }\n",
              "      </style>\n",
              "      <div id=\"id-4f92fb57-ca9c-4cea-9e12-28c5decaf5dd\" class=\"ndarray_repr\"><pre>ndarray (739, 600) <button style=\"padding: 0 2px;\">show data</button></pre><img src=\"data:image/png;base64,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\" class=\"ndarray_image_preview\" /><pre class=\"ndarray_raw_data\">array([[255, 255, 255, ..., 255, 255, 255],\n",
              "       [255, 255, 255, ..., 255, 255, 255],\n",
              "       [255, 255, 255, ..., 255, 255, 255],\n",
              "       ...,\n",
              "       [255, 255, 255, ..., 255, 255, 255],\n",
              "       [255, 255, 255, ..., 255, 255, 255],\n",
              "       [255, 255, 255, ..., 255, 255, 255]], dtype=uint8)</pre></div><script>\n",
              "      (() => {\n",
              "      const titles = ['show data', 'hide data'];\n",
              "      let index = 0\n",
              "      document.querySelector('#id-4f92fb57-ca9c-4cea-9e12-28c5decaf5dd button').onclick = (e) => {\n",
              "        document.querySelector('#id-4f92fb57-ca9c-4cea-9e12-28c5decaf5dd').classList.toggle('show_array');\n",
              "        index = (++index) % 2;\n",
              "        document.querySelector('#id-4f92fb57-ca9c-4cea-9e12-28c5decaf5dd button').textContent = titles[index];\n",
              "        e.preventDefault();\n",
              "        e.stopPropagation();\n",
              "      }\n",
              "      })();\n",
              "    </script>"
            ]
          },
          "metadata": {},
          "execution_count": 25
        }
      ]
    },
    {
      "cell_type": "code",
      "source": [
        "image.size\n"
      ],
      "metadata": {
        "colab": {
          "base_uri": "https://localhost:8080/"
        },
        "id": "x_jOLIxOeG4j",
        "outputId": "3a636b12-d8fb-474b-f61e-96066f43504d"
      },
      "execution_count": 27,
      "outputs": [
        {
          "output_type": "execute_result",
          "data": {
            "text/plain": [
              "1330200"
            ]
          },
          "metadata": {},
          "execution_count": 27
        }
      ]
    }
  ]
}