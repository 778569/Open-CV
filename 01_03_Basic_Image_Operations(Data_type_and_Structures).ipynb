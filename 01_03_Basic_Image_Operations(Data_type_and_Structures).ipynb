{
  "nbformat": 4,
  "nbformat_minor": 0,
  "metadata": {
    "colab": {
      "provenance": []
    },
    "kernelspec": {
      "name": "python3",
      "display_name": "Python 3"
    },
    "language_info": {
      "name": "python"
    }
  },
  "cells": [
    {
      "cell_type": "code",
      "execution_count": 2,
      "metadata": {
        "id": "N4R3qmFZvH2o"
      },
      "outputs": [],
      "source": [
        "import numpy as np\n",
        "import cv2\n"
      ]
    },
    {
      "cell_type": "markdown",
      "source": [
        "**Creating Black image- using \"0\" s**"
      ],
      "metadata": {
        "id": "pVFKheAO3mM3"
      }
    },
    {
      "cell_type": "code",
      "source": [
        "black = np.zeros([150,200,1],'uint8')"
      ],
      "metadata": {
        "id": "MbUg-86JxA99"
      },
      "execution_count": 3,
      "outputs": []
    },
    {
      "cell_type": "code",
      "source": [
        "from google.colab.patches import cv2_imshow"
      ],
      "metadata": {
        "id": "97lzpIP6yIKq"
      },
      "execution_count": 4,
      "outputs": []
    },
    {
      "cell_type": "code",
      "source": [
        "cv2_imshow(black)\n",
        "print(black[0,0,:])"
      ],
      "metadata": {
        "colab": {
          "base_uri": "https://localhost:8080/",
          "height": 184
        },
        "id": "FhqOBFCDyfjA",
        "outputId": "489d59a7-9660-491a-f252-7e6ef8668cfb"
      },
      "execution_count": 5,
      "outputs": [
        {
          "output_type": "display_data",
          "data": {
            "text/plain": [
              "<PIL.Image.Image image mode=RGB size=200x150>"
            ],
            "image/png": "[encoded data removed]"
          },
          "metadata": {}
        },
        {
          "output_type": "stream",
          "name": "stdout",
          "text": [
            "[0]\n"
          ]
        }
      ]
    },
    {
      "cell_type": "markdown",
      "source": [
        "**Creating Black image- using \"1\" s**"
      ],
      "metadata": {
        "id": "dKKzxfbU31l8"
      }
    },
    {
      "cell_type": "code",
      "source": [
        "import numpy as np\n",
        "import cv2\n",
        "\n",
        "oness = np.ones([150, 200, 3], 'uint8')\n",
        "cv2_imshow(oness)\n",
        "cv2.waitKey(0)\n",
        "cv2.destroyAllWindows()\n",
        "\n",
        "print(oness[0, 0, :])"
      ],
      "metadata": {
        "colab": {
          "base_uri": "https://localhost:8080/",
          "height": 184
        },
        "id": "h8pj5xpC1ien",
        "outputId": "82bd7b57-3c64-4ffb-ca11-b0196c9e0aa7"
      },
      "execution_count": 13,
      "outputs": [
        {
          "output_type": "display_data",
          "data": {
            "text/plain": [
              "<PIL.Image.Image image mode=RGB size=200x150>"
            ],
            "image/png": "[encoded data removed]"
          },
          "metadata": {}
        },
        {
          "output_type": "stream",
          "name": "stdout",
          "text": [
            "[1 1 1]\n"
          ]
        }
      ]
    },
    {
      "cell_type": "markdown",
      "source": [
        "Creating white image- using \"0\" s and output image array miltpliying by 2 ** 16.\n",
        "that mean miximum image that we can create is 16 bit image.\n",
        "thats why result are - [65535 65535 65535]"
      ],
      "metadata": {
        "id": "pMMcUfOG4UCI"
      }
    },
    {
      "cell_type": "code",
      "source": [
        "white = np.ones([150,300,3],'uint16')\n",
        "white *= (2**16-1)\n",
        "cv2_imshow(white)\n",
        "cv2.waitKey(0)\n",
        "cv2.destroyAllWindows()\n",
        "\n",
        "print(white[0, 0, :])"
      ],
      "metadata": {
        "colab": {
          "base_uri": "https://localhost:8080/",
          "height": 184
        },
        "id": "8QoWjnz82bgP",
        "outputId": "6cd3dd65-2a9d-4fb0-90d2-6860c3b286c3"
      },
      "execution_count": 16,
      "outputs": [
        {
          "output_type": "display_data",
          "data": {
            "text/plain": [
              "<PIL.Image.Image image mode=RGB size=300x150>"
            ],
            "image/png": "[encoded data removed]"
          },
          "metadata": {}
        },
        {
          "output_type": "stream",
          "name": "stdout",
          "text": [
            "[65535 65535 65535]\n"
          ]
        }
      ]
    },
    {
      "cell_type": "markdown",
      "source": [
        "**making copy of ones image-**\n",
        "\n",
        "this is deep Copy - deep copy means it completely copied all of the memory space\n",
        "then assign the color using color matrix.\n",
        "using R G B format - here I am using Blue"
      ],
      "metadata": {
        "id": "DQHA4Y6G3fCY"
      }
    },
    {
      "cell_type": "code",
      "source": [
        "color = oness.copy()\n",
        "color[:,:] = (225,0,0)\n",
        "cv2_imshow(color)\n",
        "cv2.waitKey(0)\n",
        "cv2.destroyAllWindows()\n",
        "\n",
        "print(white[0, 0, :])"
      ],
      "metadata": {
        "colab": {
          "base_uri": "https://localhost:8080/",
          "height": 184
        },
        "id": "eZThKGgl3kZs",
        "outputId": "eddbda0a-73bd-4f99-a219-4d69323b5990"
      },
      "execution_count": 20,
      "outputs": [
        {
          "output_type": "display_data",
          "data": {
            "text/plain": [
              "<PIL.Image.Image image mode=RGB size=200x150>"
            ],
            "image/png": "[encoded data removed]"
          },
          "metadata": {}
        },
        {
          "output_type": "stream",
          "name": "stdout",
          "text": [
            "[65535 65535 65535]\n"
          ]
        }
      ]
    }
  ]
}